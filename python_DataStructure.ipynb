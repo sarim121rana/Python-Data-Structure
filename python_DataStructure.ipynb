{
  "nbformat": 4,
  "nbformat_minor": 0,
  "metadata": {
    "colab": {
      "provenance": []
    },
    "kernelspec": {
      "name": "python3",
      "display_name": "Python 3"
    },
    "language_info": {
      "name": "python"
    }
  },
  "cells": [
    {
      "cell_type": "markdown",
      "source": [
        "# DATA TYPES AND STRUCTURE QUESTIONS AND ANSWER"
      ],
      "metadata": {
        "id": "IEsXmUdNZCjU"
      }
    },
    {
      "cell_type": "markdown",
      "source": [
        "1.What are data structures, and why are they important.   \n",
        "  -  A data structure is a way to organize, store and manage the data so that it can be used efficently.  \n",
        "  -   importance of data structure >> they help solve problem efficiently-both in trems of time and space,"
      ],
      "metadata": {
        "id": "RXU_S9WSZBat"
      }
    },
    {
      "cell_type": "markdown",
      "source": [
        "2.Explain the difference between mutable and immutable data types with examples.\n",
        " -  mutable data types can be changed after they are created.\n",
        " -  immutable data types can't be changed onces created."
      ],
      "metadata": {
        "id": "HOY5kFWVcSyH"
      }
    },
    {
      "cell_type": "code",
      "source": [
        "my_list=[1,2,3]\n",
        "my_list[0]=10\n",
        "my_list\n",
        "# in my_list the value of 0th index has changed so it is mutable.\n",
        "\n",
        "my_tuple=(1,2,3)\n",
        "my_tuple[0]=10\n",
        "my_tuple\n",
        "# in my_tuple the value of 0th index has not changed so it is immutable."
      ],
      "metadata": {
        "colab": {
          "base_uri": "https://localhost:8080/",
          "height": 211
        },
        "id": "4i7kO9OHdTug",
        "outputId": "8d39ef83-d30a-405d-b9ac-c3b59f0f558d"
      },
      "execution_count": null,
      "outputs": [
        {
          "output_type": "error",
          "ename": "TypeError",
          "evalue": "'tuple' object does not support item assignment",
          "traceback": [
            "\u001b[0;31m---------------------------------------------------------------------------\u001b[0m",
            "\u001b[0;31mTypeError\u001b[0m                                 Traceback (most recent call last)",
            "\u001b[0;32m/tmp/ipython-input-4-4049025983.py\u001b[0m in \u001b[0;36m<cell line: 0>\u001b[0;34m()\u001b[0m\n\u001b[1;32m      5\u001b[0m \u001b[0;34m\u001b[0m\u001b[0m\n\u001b[1;32m      6\u001b[0m \u001b[0mmy_tuple\u001b[0m\u001b[0;34m=\u001b[0m\u001b[0;34m(\u001b[0m\u001b[0;36m1\u001b[0m\u001b[0;34m,\u001b[0m\u001b[0;36m2\u001b[0m\u001b[0;34m,\u001b[0m\u001b[0;36m3\u001b[0m\u001b[0;34m)\u001b[0m\u001b[0;34m\u001b[0m\u001b[0;34m\u001b[0m\u001b[0m\n\u001b[0;32m----> 7\u001b[0;31m \u001b[0mmy_tuple\u001b[0m\u001b[0;34m[\u001b[0m\u001b[0;36m0\u001b[0m\u001b[0;34m]\u001b[0m\u001b[0;34m=\u001b[0m\u001b[0;36m10\u001b[0m\u001b[0;34m\u001b[0m\u001b[0;34m\u001b[0m\u001b[0m\n\u001b[0m\u001b[1;32m      8\u001b[0m \u001b[0mmy_tuple\u001b[0m\u001b[0;34m\u001b[0m\u001b[0;34m\u001b[0m\u001b[0m\n\u001b[1;32m      9\u001b[0m \u001b[0;31m# in my_tuple the value of 0th index has not changed so it is immutable.\u001b[0m\u001b[0;34m\u001b[0m\u001b[0;34m\u001b[0m\u001b[0m\n",
            "\u001b[0;31mTypeError\u001b[0m: 'tuple' object does not support item assignment"
          ]
        }
      ]
    },
    {
      "cell_type": "markdown",
      "source": [
        "3.what are the main differences between lists and tuples in Python.  \n",
        " - LIST : list is mutable,\n",
        " -  it is written in square bracket: [ ]\n",
        " -  Has many function like append( ), remove( )\n",
        " -  when data needs to change, e.g., a list of task\n",
        " -  TUPLE : immutable (can't be change )\n",
        " -  parenthesses : ( )\n",
        " -  when a data should stay constant, e.g., days of weeks"
      ],
      "metadata": {
        "id": "JbD-mnRZecPf"
      }
    },
    {
      "cell_type": "markdown",
      "source": [
        "4.Describe how dictionaries store data.  \n",
        " -  Dictionaries store the data in the form of key-value pairs. where each key maps to a value."
      ],
      "metadata": {
        "id": "jysleZJaebt2"
      }
    },
    {
      "cell_type": "markdown",
      "source": [
        "5. Why might you use a set instead of a list in Python.  \n",
        " -  A set automatically removes duplicates.\n",
        " -  checking if an item exists (in) is much faster in a set than a list, especially for large collection.  \n",
        " -  sets support union, intersection, difference, etc., which list don't have."
      ],
      "metadata": {
        "id": "nM_42q8ueWMO"
      }
    },
    {
      "cell_type": "markdown",
      "source": [
        "6.  What is a string in Python, and how is it different from a list.  \n",
        " -  A string is a sequence of characters enclosed in quotes.\n",
        " -  A string is immutable,  you can't change its contents after it is created.\n",
        " -  STRING is different from the list because\n",
        " -  string only store characters and list store any data type.(numbers,strings,objects)\n",
        " -  string is immutable and list is mutable.\n",
        " -  syntex of string \"text\" or 'text'\n",
        " -  syntex of list [1,2,3,\"text\"]"
      ],
      "metadata": {
        "id": "WXNDy410hiN4"
      }
    },
    {
      "cell_type": "markdown",
      "source": [
        "7. How do tuples ensure data integrity in Python.  \n",
        " -  Tuple help preserve the integrity of your data by making it unchangable."
      ],
      "metadata": {
        "id": "xratypyNhi6i"
      }
    },
    {
      "cell_type": "markdown",
      "source": [
        "8. What is a hash table, and how does it relate to dictionaries in Python.\n",
        " -  A hash table is a data structure that :\n",
        " -  stores a data as a key - value pairs\n",
        " -  uses a hash function to quickly find the location (index) of a value  \n",
        " -  A dictionary (dict) in python is implemented using a hash table internally.  \n",
        " -  when create and use a dictionary, and values in a hash table behind the scenes."
      ],
      "metadata": {
        "id": "wdR-fOoKluML"
      }
    },
    {
      "cell_type": "markdown",
      "source": [
        "9. Can lists contain different data types in Python.?  \n",
        " -  yes, lists can contain different types of data."
      ],
      "metadata": {
        "id": "C_sQUmzIm__k"
      }
    },
    {
      "cell_type": "markdown",
      "source": [
        "10. Explain why strings are immutable in Python?  \n",
        " -  strigs in python are immutable to ensure they arre hashable and can be used as keys in dictionaries and elements in sets. this also improves efficiency, as the same string object can be safely shared across the programme."
      ],
      "metadata": {
        "id": "p30GbrW7m_PA"
      }
    },
    {
      "cell_type": "markdown",
      "source": [
        "11. What advantages do dictionaries offer over lists for certain tasks?  \n",
        " -  Dictionaries offer faster lookups for keys compared to lists which require time to search for an element. They also allow you to associates meaningful keys with values, making data more organized and readable than index based access in list."
      ],
      "metadata": {
        "id": "_Ha6BiqcqqEI"
      }
    },
    {
      "cell_type": "markdown",
      "source": [
        "12. Describe a scenario where using a tuple would be preferable over a list?  \n",
        " -  When you need to store a fixed collection of values that should not change (immutable) and are ment to represent a single logical record.\n",
        "  -  e.g., location=(28.3647,77.3830)"
      ],
      "metadata": {
        "id": "tHQ4Fjxvqqc8"
      }
    },
    {
      "cell_type": "markdown",
      "source": [
        "13. How do sets handle duplicate values in Python?  \n",
        " -  Sets in python automatically eliminates duplicates.\n",
        " -  A set only keep unique elements.\n",
        " -  when you add duplicates in sets, they are ignored because sets don't allow duplicates."
      ],
      "metadata": {
        "id": "ybGm6r3SqrI5"
      }
    },
    {
      "cell_type": "markdown",
      "source": [
        "14. How does the “in” keyword work differently for lists and dictionaries?  \n",
        " -  On a list : in checks if a given value is present among the elements of the list.\n",
        " -  On a dictionary : in checks the given value is a key in dictionaries -- not the values."
      ],
      "metadata": {
        "id": "VM3ppHyLvy_A"
      }
    },
    {
      "cell_type": "markdown",
      "source": [
        "15. Can you modify the elements of a tuple? Explain why or why not ?  \n",
        "\n",
        " -  No,you cannot modify the elements of the tuple.\n",
        " -  why?  \n",
        " -  because tuples are immutable in python.  \n",
        " -  Once you created a tuple, its content cannot be changed - you cannot add, remove, or change individual elements."
      ],
      "metadata": {
        "id": "6yK8Wf0Cvyvn"
      }
    },
    {
      "cell_type": "markdown",
      "source": [
        "16. What is a nested dictionary, and give an example of its use case?  \n",
        " -  A nested dictionary in python is a dictionary where values themselves are dictionaries.\n",
        " -  It aloows you to represent hierarchical or structural or structured data - a dictionary inside another dictionary.  "
      ],
      "metadata": {
        "id": "X1PJgwP_vyXW"
      }
    },
    {
      "cell_type": "markdown",
      "source": [
        "17. Describe the time complexity of accessing elements in a dictionary?  \n",
        " -  why is it 0(1)?\n",
        " -  python dictionaries are implemented using hash tables.\n",
        " -  when you access en elements by its key (e.g.,my_dict=[key]),python\n",
        " -  a. compute the hash of the key.\n",
        " -  b. uses the hash to directly find the position in the internal table.\n",
        " -  c. returns the value associated with that key.\n",
        " -  this does not depend on the size of the dictionary, soo it's so fast.\n",
        " -  worst case 0(n)\n",
        " -  this happens rarely, in case of may hash collisions.\n",
        " -  python resolves collisions  but if they are sxcessive (poor hash ditribution), it may have to check several entries linearly.\n",
        " -  Best/Average 0(1)\n",
        " -  worst(rare) 0(n)"
      ],
      "metadata": {
        "id": "WKgL107y4jLy"
      }
    },
    {
      "cell_type": "markdown",
      "source": [
        "18. In what situations are lists preferred over dictionaries.\n",
        " -  When the order of elements matters (lists preserve insertion order,and you can access elements by position).\n",
        "  -  when you just need a sequence of items,not associated with keys.\n",
        "  -  when you want to store duplicates, because list aloow repeated values,while dictionaries keys are unique.\n",
        "  -  when you mainly access items by index,\n",
        "  -  when memory efficiency is more important and you don't need the overhead of storing keys.\n",
        "  "
      ],
      "metadata": {
        "id": "nTlmM-Xu4kCU"
      }
    },
    {
      "cell_type": "markdown",
      "source": [
        "19. Why are dictionaries considered unordered, and how does that affect data retrieval?  \n",
        " -  Dictionaries were implemented using a hash table, where the order of the keys was not guaranteed.\n",
        " -  when you added a key-value pairs, pyhton stored them based on their hash, not in the order you inserted them.\n",
        " -  so iterating over a dictionary could return keys in any order.\n",
        " -  >> how does the data retrival?\n",
        " -  since dictionaries are optimized for fast lookup by key, you can't retrive elements by position (like mydict[0] is invalid )\n",
        " -  you must know the key to retrive the corresponding value."
      ],
      "metadata": {
        "id": "vXZJQbMB4k0y"
      }
    },
    {
      "cell_type": "markdown",
      "source": [],
      "metadata": {
        "id": "6ws4Anb14lgm"
      }
    },
    {
      "cell_type": "markdown",
      "source": [
        "20. Explain the difference between a list and a dictionary in terms of data retrieval.\n",
        " -  1. >>  How data is stored.\n",
        " -  list :  \n",
        " -  Data is stored as an ordered sequence of elements, each with an index (1,2,...)\n",
        " -  Dictionay :  \n",
        " -  Data is stored as key-value pairs, where each key map to a value.\n",
        " -  2.  >>  How you retrive data\n",
        " -  List :  \n",
        " -  you retrive data by index(position)\n",
        " -  Dictionary :  \n",
        " -  you retrive the data by key\n",
        " -  you don't meed to know the position-- you just need the key.\n"
      ],
      "metadata": {
        "id": "t1WaFVRlBO5z"
      }
    },
    {
      "cell_type": "markdown",
      "source": [
        "#practical Questions"
      ],
      "metadata": {
        "id": "dedEGnIQBOL4"
      }
    },
    {
      "cell_type": "code",
      "source": [
        "# 1. Write a code to create a string with your name and print it.\n",
        "name=\"Sarim Rana\"\n",
        "print(name)"
      ],
      "metadata": {
        "colab": {
          "base_uri": "https://localhost:8080/"
        },
        "id": "2ZbEuQQMDvCv",
        "outputId": "bdce4fc6-5f94-441b-a792-b93cd7be8a0c"
      },
      "execution_count": null,
      "outputs": [
        {
          "output_type": "stream",
          "name": "stdout",
          "text": [
            "Sarim Rana\n"
          ]
        }
      ]
    },
    {
      "cell_type": "code",
      "source": [
        "# 2. Write a code to find the length of the string \"Hello World\".\n",
        "str=\"Hello world\"\n",
        "len(str)"
      ],
      "metadata": {
        "colab": {
          "base_uri": "https://localhost:8080/"
        },
        "id": "JeSRCdd-hudu",
        "outputId": "ead21411-9b6b-4731-ce0b-746d29670942"
      },
      "execution_count": null,
      "outputs": [
        {
          "output_type": "execute_result",
          "data": {
            "text/plain": [
              "11"
            ]
          },
          "metadata": {},
          "execution_count": 2
        }
      ]
    },
    {
      "cell_type": "code",
      "source": [
        "# 3. Write a code to slice the first 3 characters from the string \"Python Programming\".\n",
        "text=\"python programming\"\n",
        "sliced=text[0:3]\n",
        "print(sliced)\n"
      ],
      "metadata": {
        "id": "Hkw0TxpWjl1O",
        "colab": {
          "base_uri": "https://localhost:8080/"
        },
        "outputId": "43849827-3974-4bc3-f1df-5b67fff89f4f"
      },
      "execution_count": 3,
      "outputs": [
        {
          "output_type": "stream",
          "name": "stdout",
          "text": [
            "pyt\n"
          ]
        }
      ]
    },
    {
      "cell_type": "code",
      "source": [
        "# 4. Write a code to convert the string \"hello\" to uppercase.\n",
        "str=\"hello\"\n",
        "str.upper()"
      ],
      "metadata": {
        "colab": {
          "base_uri": "https://localhost:8080/",
          "height": 36
        },
        "id": "Y3DQ1fYskWUF",
        "outputId": "89e4058d-54bd-42b0-92a8-e6cde4e56ea1"
      },
      "execution_count": 5,
      "outputs": [
        {
          "output_type": "execute_result",
          "data": {
            "text/plain": [
              "'HELLO'"
            ],
            "application/vnd.google.colaboratory.intrinsic+json": {
              "type": "string"
            }
          },
          "metadata": {},
          "execution_count": 5
        }
      ]
    },
    {
      "cell_type": "code",
      "source": [
        "# 5. Write a code to replace the word \"apple\" with \"orange\" in the string \"I like apple\".\n",
        "text=\"I like apple\"\n",
        "new_text=text.replace(\"apple\",\"orange\")\n",
        "new_text"
      ],
      "metadata": {
        "colab": {
          "base_uri": "https://localhost:8080/",
          "height": 36
        },
        "id": "0PG8HVYFklNG",
        "outputId": "e8b0303c-b473-4323-bec6-31cd6c630ecb"
      },
      "execution_count": 8,
      "outputs": [
        {
          "output_type": "execute_result",
          "data": {
            "text/plain": [
              "'I like orange'"
            ],
            "application/vnd.google.colaboratory.intrinsic+json": {
              "type": "string"
            }
          },
          "metadata": {},
          "execution_count": 8
        }
      ]
    },
    {
      "cell_type": "code",
      "source": [
        "# 6. Write a code to create a list with numbers 1 to 5 and print it.\n",
        "list=[1,2,3,4,5]\n",
        "print(list)"
      ],
      "metadata": {
        "colab": {
          "base_uri": "https://localhost:8080/"
        },
        "id": "qMAT1MHYmHJ7",
        "outputId": "6ab9a23c-a50b-4717-d4c2-20e3cf80225d"
      },
      "execution_count": 9,
      "outputs": [
        {
          "output_type": "stream",
          "name": "stdout",
          "text": [
            "[1, 2, 3, 4, 5]\n"
          ]
        }
      ]
    },
    {
      "cell_type": "code",
      "source": [
        "# 7. Write a code to append the number 10 to the list [1, 2, 3, 4].\n",
        "list=[1,2,3,4]\n",
        "list.append(10)\n",
        "list"
      ],
      "metadata": {
        "colab": {
          "base_uri": "https://localhost:8080/"
        },
        "id": "mXfcquywnOSO",
        "outputId": "6b89a375-f1ef-4256-a866-1e71a69ea61b"
      },
      "execution_count": 10,
      "outputs": [
        {
          "output_type": "execute_result",
          "data": {
            "text/plain": [
              "[1, 2, 3, 4, 10]"
            ]
          },
          "metadata": {},
          "execution_count": 10
        }
      ]
    },
    {
      "cell_type": "code",
      "source": [
        "# 8. Write a code to remove the number 3 from the list [1, 2, 3, 4, 5].\n",
        "list=[1,2,3,4,5]\n",
        "list.remove(3)\n",
        "list"
      ],
      "metadata": {
        "colab": {
          "base_uri": "https://localhost:8080/"
        },
        "id": "hiFiiNlHngvq",
        "outputId": "b5a675b6-3932-4519-d45a-de7993ace8c5"
      },
      "execution_count": 11,
      "outputs": [
        {
          "output_type": "execute_result",
          "data": {
            "text/plain": [
              "[1, 2, 4, 5]"
            ]
          },
          "metadata": {},
          "execution_count": 11
        }
      ]
    },
    {
      "cell_type": "code",
      "source": [
        "# 9. Write a code to access the second element in the list ['a', 'b', 'c', 'd'].\n",
        "list=[\"a\",\"b\",\"c\",\"d\"]\n",
        "list[1]"
      ],
      "metadata": {
        "colab": {
          "base_uri": "https://localhost:8080/",
          "height": 36
        },
        "id": "ViyRKEMqoCu2",
        "outputId": "30f7e1e1-c647-433f-e3f5-a04ed0e7c896"
      },
      "execution_count": 12,
      "outputs": [
        {
          "output_type": "execute_result",
          "data": {
            "text/plain": [
              "'b'"
            ],
            "application/vnd.google.colaboratory.intrinsic+json": {
              "type": "string"
            }
          },
          "metadata": {},
          "execution_count": 12
        }
      ]
    },
    {
      "cell_type": "code",
      "source": [
        "# 10. Write a code to reverse the list [10, 20, 30, 40, 50].\n",
        "list=[10,20,30,40,50]\n",
        "list[::-1]"
      ],
      "metadata": {
        "colab": {
          "base_uri": "https://localhost:8080/"
        },
        "id": "5Lcp7RD5oWQh",
        "outputId": "a1cc06b3-7699-4121-b441-fdd7077e1f85"
      },
      "execution_count": 13,
      "outputs": [
        {
          "output_type": "execute_result",
          "data": {
            "text/plain": [
              "[50, 40, 30, 20, 10]"
            ]
          },
          "metadata": {},
          "execution_count": 13
        }
      ]
    },
    {
      "cell_type": "code",
      "source": [
        "# 11.  Write a code to create a tuple with the elements 100, 200, 300 and print it.\n",
        "my_tuple=(100,200,300)\n",
        "print(my_tuple)"
      ],
      "metadata": {
        "colab": {
          "base_uri": "https://localhost:8080/"
        },
        "id": "VQJnkKmRomQh",
        "outputId": "1e067a04-96ad-4869-e4a6-23ed9d553cc1"
      },
      "execution_count": 14,
      "outputs": [
        {
          "output_type": "stream",
          "name": "stdout",
          "text": [
            "(100, 200, 300)\n"
          ]
        }
      ]
    },
    {
      "cell_type": "code",
      "source": [
        "# 12. Write a code to access the second-to-last element of the tuple ('red', 'green', 'blue', 'yellow').\n",
        "my_tuple=(\"red\",\"green\",\"blue\",\"yellow\")\n",
        "my_tuple[1:4]"
      ],
      "metadata": {
        "colab": {
          "base_uri": "https://localhost:8080/"
        },
        "id": "_Lc_o9W5o3dF",
        "outputId": "0c8b8422-f071-48b4-f535-fecd76853ab9"
      },
      "execution_count": 15,
      "outputs": [
        {
          "output_type": "execute_result",
          "data": {
            "text/plain": [
              "('green', 'blue', 'yellow')"
            ]
          },
          "metadata": {},
          "execution_count": 15
        }
      ]
    },
    {
      "cell_type": "code",
      "source": [
        "# 13. Write a code to find the minimum number in the tuple (10, 20, 5, 15).\n",
        "my_tuple=(10,20,5,15)\n",
        "min(my_tuple)"
      ],
      "metadata": {
        "colab": {
          "base_uri": "https://localhost:8080/"
        },
        "id": "S15h_5iapWqu",
        "outputId": "8829ffbe-79d2-4e98-e0ed-f497128a5bbb"
      },
      "execution_count": 16,
      "outputs": [
        {
          "output_type": "execute_result",
          "data": {
            "text/plain": [
              "5"
            ]
          },
          "metadata": {},
          "execution_count": 16
        }
      ]
    },
    {
      "cell_type": "code",
      "source": [
        "# 14. Write a code to find the index of the element \"cat\" in the tuple ('dog', 'cat', 'rabbit').\n",
        "my_tuple=(\"dog\",\"cat\",\"rabbit\")\n",
        "my_tuple.index(\"cat\")"
      ],
      "metadata": {
        "colab": {
          "base_uri": "https://localhost:8080/"
        },
        "id": "MgB8CNfaptQB",
        "outputId": "a1e64559-5ed6-497f-8ff3-4ae76bdb39e8"
      },
      "execution_count": 18,
      "outputs": [
        {
          "output_type": "execute_result",
          "data": {
            "text/plain": [
              "1"
            ]
          },
          "metadata": {},
          "execution_count": 18
        }
      ]
    },
    {
      "cell_type": "code",
      "source": [
        "# 15. Write a code to create a tuple containing three different fruits and check if \"kiwi\" is in it.\n",
        "my_tuple=(\"apple\",\"banana\",\"kiwi\")\n",
        "\"kiwi\" in my_tuple"
      ],
      "metadata": {
        "colab": {
          "base_uri": "https://localhost:8080/"
        },
        "id": "W70qH2wFqEfD",
        "outputId": "26f4197f-6839-4a6a-b524-f11418c970b4"
      },
      "execution_count": 19,
      "outputs": [
        {
          "output_type": "execute_result",
          "data": {
            "text/plain": [
              "True"
            ]
          },
          "metadata": {},
          "execution_count": 19
        }
      ]
    },
    {
      "cell_type": "code",
      "source": [
        "# 16. Write a code to create a set with the elements 'a', 'b', 'c' and print it.\n",
        "my_set={\"a\",\"b\",\"c\"}\n",
        "print(my_set)"
      ],
      "metadata": {
        "colab": {
          "base_uri": "https://localhost:8080/"
        },
        "id": "jDcqEC7-rfbH",
        "outputId": "8e46136d-31dd-4436-d262-c232e7199aa6"
      },
      "execution_count": 20,
      "outputs": [
        {
          "output_type": "stream",
          "name": "stdout",
          "text": [
            "{'c', 'b', 'a'}\n"
          ]
        }
      ]
    },
    {
      "cell_type": "code",
      "source": [
        "# 17. Write a code to clear all elements from the set {1, 2, 3, 4, 5}.\n",
        "my_set={1,2,3,4,5}\n",
        "my_set.clear()\n",
        "my_set"
      ],
      "metadata": {
        "colab": {
          "base_uri": "https://localhost:8080/"
        },
        "id": "1XN68Fu_sSCW",
        "outputId": "539b49bb-14af-4e73-ad9b-f134d3594fd5"
      },
      "execution_count": 21,
      "outputs": [
        {
          "output_type": "execute_result",
          "data": {
            "text/plain": [
              "set()"
            ]
          },
          "metadata": {},
          "execution_count": 21
        }
      ]
    },
    {
      "cell_type": "code",
      "source": [
        "# 18. Write a code to remove the element 4 from the set {1, 2, 3, 4}.\n",
        "my_set={1,2,3,4}\n",
        "my_set.remove(4)\n",
        "my_set"
      ],
      "metadata": {
        "colab": {
          "base_uri": "https://localhost:8080/"
        },
        "id": "GDG4B5X-szwA",
        "outputId": "e4e94d06-c921-49ec-804c-c0d1541a55c7"
      },
      "execution_count": 22,
      "outputs": [
        {
          "output_type": "execute_result",
          "data": {
            "text/plain": [
              "{1, 2, 3}"
            ]
          },
          "metadata": {},
          "execution_count": 22
        }
      ]
    },
    {
      "cell_type": "code",
      "source": [
        "# 19. Write a code to find the union of two sets {1, 2, 3} and {3, 4, 5}.\n",
        "set1={1,2,3}\n",
        "set2={3,4,5}\n",
        "set1 | set2"
      ],
      "metadata": {
        "colab": {
          "base_uri": "https://localhost:8080/"
        },
        "id": "2m9EkEh9tCyB",
        "outputId": "9ee9f846-b57c-4551-a98c-dbf9e3b2aa58"
      },
      "execution_count": 23,
      "outputs": [
        {
          "output_type": "execute_result",
          "data": {
            "text/plain": [
              "{1, 2, 3, 4, 5}"
            ]
          },
          "metadata": {},
          "execution_count": 23
        }
      ]
    },
    {
      "cell_type": "code",
      "source": [
        "# 20. Write a code to find the intersection of two sets {1, 2, 3} and {2, 3, 4}.\n",
        "set1={1,2,3}\n",
        "set2={2,3,4}\n",
        "set1 & set2"
      ],
      "metadata": {
        "colab": {
          "base_uri": "https://localhost:8080/"
        },
        "id": "039RS1ZWtVPz",
        "outputId": "0c369429-6c3f-46df-e748-4731b5f3e6b5"
      },
      "execution_count": 24,
      "outputs": [
        {
          "output_type": "execute_result",
          "data": {
            "text/plain": [
              "{2, 3}"
            ]
          },
          "metadata": {},
          "execution_count": 24
        }
      ]
    },
    {
      "cell_type": "code",
      "source": [
        "# 21. Write a code to create a dictionary with the keys \"name\", \"age\", and \"city\", and print it.\n",
        "my_dict={\"name\":\"sairm rana\",\"age\":20,\"city\":\"ghaziabad\"}\n",
        "print(my_dict)"
      ],
      "metadata": {
        "colab": {
          "base_uri": "https://localhost:8080/"
        },
        "id": "Dp9tsAV0t954",
        "outputId": "07d893c4-d9d2-47bf-b666-281b0d6f14d2"
      },
      "execution_count": 25,
      "outputs": [
        {
          "output_type": "stream",
          "name": "stdout",
          "text": [
            "{'name': 'sairm rana', 'age': 20, 'city': 'ghaziabad'}\n"
          ]
        }
      ]
    },
    {
      "cell_type": "code",
      "source": [
        "# 22.  Write a code to add a new key-value pair \"country\": \"USA\" to the dictionary {'name': 'John', 'age': 25}.\n",
        "my_dict={\"name\":\"john\",\"age\":25}\n",
        "my_dict[\"country\"]=\"usa\"\n",
        "print(my_dict)"
      ],
      "metadata": {
        "colab": {
          "base_uri": "https://localhost:8080/"
        },
        "id": "sew4HQesun4c",
        "outputId": "edb3303c-feb4-4b07-eb64-c2a60debe984"
      },
      "execution_count": 26,
      "outputs": [
        {
          "output_type": "stream",
          "name": "stdout",
          "text": [
            "{'name': 'john', 'age': 25, 'country': 'usa'}\n"
          ]
        }
      ]
    },
    {
      "cell_type": "code",
      "source": [
        "# 23. Write a code to access the value associated with the key \"name\" in the dictionary {'name': 'Alice', 'age': 30}.\n",
        "my_dict={\"name\":\"Alice\",\"age\":30}\n",
        "print(my_dict[\"name\"])"
      ],
      "metadata": {
        "colab": {
          "base_uri": "https://localhost:8080/"
        },
        "id": "iFPg7GPQvLKR",
        "outputId": "717a831b-0cf5-48e5-dc25-8a579860bfd8"
      },
      "execution_count": 28,
      "outputs": [
        {
          "output_type": "stream",
          "name": "stdout",
          "text": [
            "Alice\n"
          ]
        }
      ]
    },
    {
      "cell_type": "code",
      "source": [
        "# 24. Write a code to remove the key \"age\" from the dictionary {'name': 'Bob', 'age': 22, 'city': 'New York'}.\n",
        "my_dict={\"name\":\"Bob\",\"age\":22,\"city\":\"New York\"}\n",
        "#my_dict.pop(\"age\") we can also use pop for remove the particulsr key pairs.\n",
        "del my_dict[\"age\"]\n",
        "my_dict"
      ],
      "metadata": {
        "colab": {
          "base_uri": "https://localhost:8080/"
        },
        "id": "kPb51EIkvtaV",
        "outputId": "8354eb29-1605-4c07-ed53-fbee2cd834fb"
      },
      "execution_count": 30,
      "outputs": [
        {
          "output_type": "execute_result",
          "data": {
            "text/plain": [
              "{'name': 'Bob', 'city': 'New York'}"
            ]
          },
          "metadata": {},
          "execution_count": 30
        }
      ]
    },
    {
      "cell_type": "code",
      "source": [
        "# 25. Write a code to check if the key \"city\" exists in the dictionary {'name': 'Alice', 'city': 'Paris'}.\n",
        "my_dict={\"name\":\"Alice\",\"city\":\"paris\"}\n",
        "\"city\" in my_dict"
      ],
      "metadata": {
        "colab": {
          "base_uri": "https://localhost:8080/"
        },
        "id": "SGRe_ujAxHba",
        "outputId": "a9931639-c400-423c-e17d-bf1598eb3e6c"
      },
      "execution_count": 31,
      "outputs": [
        {
          "output_type": "execute_result",
          "data": {
            "text/plain": [
              "True"
            ]
          },
          "metadata": {},
          "execution_count": 31
        }
      ]
    },
    {
      "cell_type": "code",
      "source": [
        "# 26. Write a code to create a list, a tuple, and a dictionary, and print them all.\n",
        "my_list=[1,2,3,4]\n",
        "my_tuple=(5,6,7,8)\n",
        "my_dict={\"name\":\"Alice\",\"age\":22}\n",
        "print(\"list:\",my_list)\n",
        "print(\"tuple:\",my_tuple)\n",
        "print(\"dict:\",my_dict)"
      ],
      "metadata": {
        "colab": {
          "base_uri": "https://localhost:8080/"
        },
        "id": "tjLQlb4Cx3db",
        "outputId": "27c74dae-3dac-4aa5-9600-8c6b80eef2dc"
      },
      "execution_count": 33,
      "outputs": [
        {
          "output_type": "stream",
          "name": "stdout",
          "text": [
            "list: [1, 2, 3, 4]\n",
            "tuple: (5, 6, 7, 8)\n",
            "dict: {'name': 'Alice', 'age': 22}\n"
          ]
        }
      ]
    },
    {
      "cell_type": "code",
      "source": [
        "# 27. Write a code to create a list of 5 random numbers between 1 and 100, sort it in ascending order, and print the\n",
        "#     result.(replaced)\n",
        "my_list=[10,90,40,50,20]\n",
        "my_list.sort()\n",
        "my_list"
      ],
      "metadata": {
        "colab": {
          "base_uri": "https://localhost:8080/"
        },
        "id": "AaMHy8I2y4BR",
        "outputId": "fd2f1f73-0e62-46ae-c140-20cd399afa18"
      },
      "execution_count": 34,
      "outputs": [
        {
          "output_type": "execute_result",
          "data": {
            "text/plain": [
              "[10, 20, 40, 50, 90]"
            ]
          },
          "metadata": {},
          "execution_count": 34
        }
      ]
    },
    {
      "cell_type": "code",
      "source": [
        "# 28. Write a code to create a list with strings and print the element at the third index.\n",
        "my_list=[\"sanjay\",\"ajay\",\"bijay\",\"sunny\"]\n",
        "my_list[3]"
      ],
      "metadata": {
        "colab": {
          "base_uri": "https://localhost:8080/",
          "height": 36
        },
        "id": "rdlZCVc4zYwI",
        "outputId": "99c74469-d0ac-473f-ec93-6701773d14de"
      },
      "execution_count": 37,
      "outputs": [
        {
          "output_type": "execute_result",
          "data": {
            "text/plain": [
              "'sunny'"
            ],
            "application/vnd.google.colaboratory.intrinsic+json": {
              "type": "string"
            }
          },
          "metadata": {},
          "execution_count": 37
        }
      ]
    },
    {
      "cell_type": "code",
      "source": [
        "# 29. Write a code to combine two dictionaries into one and print the result.\n",
        "dict1={\"name\":\"Alice\",\"age\":30}\n",
        "dict2={\"city\":\"paris\",\"country\":\"france\"}\n",
        "dict1.update(dict2)\n",
        "dict1\n"
      ],
      "metadata": {
        "colab": {
          "base_uri": "https://localhost:8080/"
        },
        "id": "8kM_ySkEz2_j",
        "outputId": "c6356967-e9d3-44ca-e53a-5b6f876b4095"
      },
      "execution_count": 40,
      "outputs": [
        {
          "output_type": "execute_result",
          "data": {
            "text/plain": [
              "{'name': 'Alice', 'age': 30, 'city': 'paris', 'country': 'france'}"
            ]
          },
          "metadata": {},
          "execution_count": 40
        }
      ]
    },
    {
      "cell_type": "code",
      "source": [
        "# 30. Write a code to convert a list of strings into a set.\n",
        "my_list=[\"sarim\",\"rana\",\"rajput\"]\n",
        "set1=set(my_list)\n",
        "set1"
      ],
      "metadata": {
        "colab": {
          "base_uri": "https://localhost:8080/"
        },
        "id": "wKxM0X9b028y",
        "outputId": "2ad76cc4-49ec-42ef-853a-96758950dffa"
      },
      "execution_count": 41,
      "outputs": [
        {
          "output_type": "execute_result",
          "data": {
            "text/plain": [
              "{'rajput', 'rana', 'sarim'}"
            ]
          },
          "metadata": {},
          "execution_count": 41
        }
      ]
    },
    {
      "cell_type": "code",
      "source": [
        "type(set1)"
      ],
      "metadata": {
        "colab": {
          "base_uri": "https://localhost:8080/"
        },
        "id": "wzFbjPRx1blV",
        "outputId": "ee2116b7-9e24-4446-e6e0-bef384dc3d45"
      },
      "execution_count": 42,
      "outputs": [
        {
          "output_type": "execute_result",
          "data": {
            "text/plain": [
              "set"
            ]
          },
          "metadata": {},
          "execution_count": 42
        }
      ]
    },
    {
      "cell_type": "code",
      "source": [],
      "metadata": {
        "id": "APHL2ESv1nzH"
      },
      "execution_count": null,
      "outputs": []
    }
  ]
}